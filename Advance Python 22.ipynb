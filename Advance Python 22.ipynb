{
 "cells": [
  {
   "cell_type": "code",
   "execution_count": null,
   "id": "a713447b",
   "metadata": {},
   "outputs": [],
   "source": [
    "Q1. What are the benefits of the built-in array package, if any?"
   ]
  },
  {
   "cell_type": "code",
   "execution_count": null,
   "id": "78ff3002",
   "metadata": {},
   "outputs": [],
   "source": [
    "Arrays represent multiple data items of the same type using a single name. In arrays, the elements can be accessed \n",
    "randomly by using the index number. Arrays allocate memory in contiguous memory locations for all its elements. Hence\n",
    "there is no chance of extra memory being allocated in case of arrays. This avoids memory overflow or shortage of memory\n",
    "in arrays."
   ]
  },
  {
   "cell_type": "code",
   "execution_count": null,
   "id": "ea2d7fee",
   "metadata": {},
   "outputs": [],
   "source": [
    "Q2. What are some of the array package's limitations?"
   ]
  },
  {
   "cell_type": "code",
   "execution_count": null,
   "id": "70a54751",
   "metadata": {},
   "outputs": [],
   "source": [
    "The number of elements to be stored in an array should be known in advance. An array is a static structure (which means \n",
    "the array is of fixed size). Once declared the size of the array cannot be modified. The memory which is allocated to it\n",
    "cannot be increased or decreased.\n",
    "\n",
    "Insertion and deletion are quite difficult in an array as the elements are stored in consecutive memory locations and the \n",
    "shifting operation is costly.\n",
    "\n",
    "Allocating more memory than the requirement leads to wastage of memory space and less allocation of memory also leads to \n",
    "a problem."
   ]
  },
  {
   "cell_type": "code",
   "execution_count": null,
   "id": "c38f119c",
   "metadata": {},
   "outputs": [],
   "source": [
    "Q3. Describe the main differences between the array and numpy packages ?"
   ]
  },
  {
   "cell_type": "code",
   "execution_count": null,
   "id": "0116ca0e",
   "metadata": {},
   "outputs": [],
   "source": [
    "The array package doesn't provide any help with numerical calculation with the items insdie it in number form while \n",
    "NumPy give you a wide variety of numerical operations.\n",
    "\n",
    "An array is a single dimensional entity which hold the numerical data, while numpy can have more than 1 dimension.\n",
    "\n",
    "In case of array, item can be accessed by its index position and it is easy task while in numpy item is accessed by its \n",
    "column and row index, which makes it slightly time taking. Same goes with appending operation.\n",
    "\n",
    "In case of array we do not form a tabular structure, while in numpy it forms a tabular structure"
   ]
  },
  {
   "cell_type": "code",
   "execution_count": null,
   "id": "d1c99f7f",
   "metadata": {},
   "outputs": [],
   "source": [
    "Q4. Explain the distinctions between the empty, ones, and zeros functions ?"
   ]
  },
  {
   "cell_type": "code",
   "execution_count": null,
   "id": "52629700",
   "metadata": {},
   "outputs": [],
   "source": [
    "The distinctions between the empty, ones, and zero functions are as follows :\n",
    "\n",
    "Empty function: An empty function is a function that does not contain any statement within its body. If you try to write a\n",
    "function definition without any statement in python ,it will return an error. To avoid this, we use pass statement. \n",
    "pass is a special statement in Python that does nothing. It only works as a dummy statement.\n",
    "Ones: This function returns a new array of given shape and data type, where the element’s value is 1.\n",
    "Zeros: This function returns a new array of given shape and data type, where the element’s value is 0."
   ]
  },
  {
   "cell_type": "code",
   "execution_count": null,
   "id": "0976db1a",
   "metadata": {},
   "outputs": [],
   "source": [
    "Q5. In the fromfunction function, which is used to construct new arrays, what is the role of the callable argument ?"
   ]
  },
  {
   "cell_type": "code",
   "execution_count": null,
   "id": "d0d78d6c",
   "metadata": {},
   "outputs": [],
   "source": [
    "Its function is to execute the function over each coordinate and the resulting array. The function is called with N \n",
    "parameters, where N is the rank of shape. Each parameter represents the coordinates of the array varying along a specific\n",
    "axis."
   ]
  },
  {
   "cell_type": "code",
   "execution_count": null,
   "id": "855cda25",
   "metadata": {},
   "outputs": [],
   "source": [
    "Q6. What happens when a numpy array is combined with a single-value operand (a scalar, such as an int or a floating-point\n",
    "value) through addition, as in the expression A + n ?"
   ]
  },
  {
   "cell_type": "code",
   "execution_count": null,
   "id": "48faf7cd",
   "metadata": {},
   "outputs": [],
   "source": [
    "If any scaler value such as integer is added to the numpy array then all the elements inside the array will add that \n",
    "value in it."
   ]
  },
  {
   "cell_type": "code",
   "execution_count": null,
   "id": "34b67263",
   "metadata": {},
   "outputs": [],
   "source": [
    "Q7. Can array-to-scalar operations use combined operation-assign operators (such as += or *=)? What is the outcome ?"
   ]
  },
  {
   "cell_type": "code",
   "execution_count": null,
   "id": "be6f4435",
   "metadata": {},
   "outputs": [],
   "source": [
    " It will carry out provided operation on all elements of array."
   ]
  },
  {
   "cell_type": "code",
   "execution_count": null,
   "id": "4caa090e",
   "metadata": {},
   "outputs": [],
   "source": [
    "Q8. Does a numpy array contain fixed-length strings? What happens if you allocate a longer string to one of these arrays ?"
   ]
  },
  {
   "cell_type": "code",
   "execution_count": null,
   "id": "d88b1a4a",
   "metadata": {},
   "outputs": [],
   "source": [
    "Yes, it is possible that we can include a string of fixed length in numpy array. The dtype of any numpy array containing\n",
    "string values is the maximum length of any string present in the array.Once set, it will only be able to store new string \n",
    "having length not more than the maximum length at the time of the creation. If we try to reassign some another string \n",
    "value having length greater than the maximum length of the existing elements, it simply discards all the values beyond \n",
    "the maximum length accept upto those values which are under the limit."
   ]
  },
  {
   "cell_type": "code",
   "execution_count": null,
   "id": "68ac84e2",
   "metadata": {},
   "outputs": [],
   "source": [
    "Q9. What happens when you combine two numpy arrays using an operation like addition (+) or multiplication (*)? What \n",
    "are the conditions for combining two numpy arrays ?"
   ]
  },
  {
   "cell_type": "code",
   "execution_count": null,
   "id": "251ee24c",
   "metadata": {},
   "outputs": [],
   "source": [
    " It will simply add or multiply element to element at same position."
   ]
  },
  {
   "cell_type": "code",
   "execution_count": null,
   "id": "d19bbfe4",
   "metadata": {},
   "outputs": [],
   "source": [
    "Q10. What is the best way to use a Boolean array to mask another array ?"
   ]
  },
  {
   "cell_type": "code",
   "execution_count": null,
   "id": "e39c3439",
   "metadata": {},
   "outputs": [],
   "source": [
    "The best way to use a Boolean array to mask another array is by Using masked_where of numpy package"
   ]
  },
  {
   "cell_type": "code",
   "execution_count": null,
   "id": "468c8ce3",
   "metadata": {},
   "outputs": [],
   "source": [
    "Q11. What are three different ways to get the standard deviation of a wide collection of data using both standard Python \n",
    "and its packages? Sort the three of them by how quickly they execute ?"
   ]
  },
  {
   "cell_type": "code",
   "execution_count": null,
   "id": "65dd3e9c",
   "metadata": {},
   "outputs": [],
   "source": [
    "np.std and math package can be used individually."
   ]
  },
  {
   "cell_type": "code",
   "execution_count": null,
   "id": "ffca9731",
   "metadata": {},
   "outputs": [],
   "source": [
    "12. What is the dimensionality of a Boolean mask-generated array ?"
   ]
  },
  {
   "cell_type": "code",
   "execution_count": null,
   "id": "74e9b508",
   "metadata": {},
   "outputs": [],
   "source": [
    "It will have same dimensionality as input array."
   ]
  }
 ],
 "metadata": {
  "kernelspec": {
   "display_name": "Python 3 (ipykernel)",
   "language": "python",
   "name": "python3"
  },
  "language_info": {
   "codemirror_mode": {
    "name": "ipython",
    "version": 3
   },
   "file_extension": ".py",
   "mimetype": "text/x-python",
   "name": "python",
   "nbconvert_exporter": "python",
   "pygments_lexer": "ipython3",
   "version": "3.9.12"
  }
 },
 "nbformat": 4,
 "nbformat_minor": 5
}
